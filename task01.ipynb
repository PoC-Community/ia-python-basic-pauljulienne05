{
 "cells": [
  {
   "cell_type": "code",
   "execution_count": 20,
   "id": "016dc298-af16-47e9-82b5-ac12304a0ff0",
   "metadata": {},
   "outputs": [
    {
     "name": "stdout",
     "output_type": "stream",
     "text": [
      "The file isn't corrupted anymore, good job !\n"
     ]
    }
   ],
   "source": [
    "# There's still some trace of corruptions..\n",
    "# Apparently they seems to be called commentaries...\n",
    "\n",
    "def robotProgram():\n",
    "    max = 16 \n",
    "    goal = 15\n",
    "    victory = \"Success !\"\n",
    "    retry = \"Not yet\"\n",
    "\n",
    "    for i in range(0, max):\n",
    "        if i == goal: \n",
    "            return(\"Success !\")\n",
    "            \n",
    "    print(i, retry)  \n",
    "        \n",
    "\n",
    "# Testing\n",
    "\n",
    "assert(robotProgram() == 'Success !'), \"File is still corrupted\"\n",
    "print(\"The file isn't corrupted anymore, good job !\")\n"
   ]
  },
  {
   "cell_type": "code",
   "execution_count": null,
   "id": "ecc86e9a-a09b-4a5f-90e1-e44b073068fb",
   "metadata": {},
   "outputs": [],
   "source": []
  }
 ],
 "metadata": {
  "kernelspec": {
   "display_name": "Python 3 (ipykernel)",
   "language": "python",
   "name": "python3"
  },
  "language_info": {
   "codemirror_mode": {
    "name": "ipython",
    "version": 3
   },
   "file_extension": ".py",
   "mimetype": "text/x-python",
   "name": "python",
   "nbconvert_exporter": "python",
   "pygments_lexer": "ipython3",
   "version": "3.11.6"
  }
 },
 "nbformat": 4,
 "nbformat_minor": 5
}
