{
 "cells": [
  {
   "cell_type": "code",
   "execution_count": 52,
   "id": "55866742-f626-4d45-aad7-825f38218dc6",
   "metadata": {},
   "outputs": [],
   "source": [
    "# First, create a function that concat two strings. (Just for the train)\n",
    "\n",
    "def littleSpeech(firstWord: str, secondWord: str) -> str:\n",
    "    return firstWord + secondWord\n",
    "\n",
    "assert(littleSpeech(\"Hello\", \" World !\") == \"Hello World !\"), \"I guess he isn't alive.\"\n"
   ]
  },
  {
   "cell_type": "code",
   "execution_count": null,
   "id": "827e44af-f2e2-4fc8-88c5-beb4314f94ce",
   "metadata": {},
   "outputs": [],
   "source": []
  },
  {
   "cell_type": "code",
   "execution_count": null,
   "id": "c41d8464-8f1a-4b59-a693-cf7aa74f90e8",
   "metadata": {},
   "outputs": [],
   "source": []
  }
 ],
 "metadata": {
  "kernelspec": {
   "display_name": "Python 3 (ipykernel)",
   "language": "python",
   "name": "python3"
  },
  "language_info": {
   "codemirror_mode": {
    "name": "ipython",
    "version": 3
   },
   "file_extension": ".py",
   "mimetype": "text/x-python",
   "name": "python",
   "nbconvert_exporter": "python",
   "pygments_lexer": "ipython3",
   "version": "3.11.6"
  }
 },
 "nbformat": 4,
 "nbformat_minor": 5
}
